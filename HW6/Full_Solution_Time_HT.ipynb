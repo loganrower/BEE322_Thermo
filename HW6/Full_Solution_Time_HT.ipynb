{
 "cells": [
  {
   "cell_type": "markdown",
   "metadata": {},
   "source": [
    "# Full Solution of Time Series Heat Transfer"
   ]
  },
  {
   "cell_type": "markdown",
   "metadata": {},
   "source": [
    "> Discussion:\n",
    "> The full equation for the time varying solution to heat transfer problems is as seen below and is an infinite series...\n",
    "\n",
    "> The goal is to use the equation and then similarly compare it against other values in order to see clearly where the heistler chart method and the erf solution method can be applied"
   ]
  },
  {
   "cell_type": "markdown",
   "metadata": {},
   "source": [
    "### Equation:\n"
   ]
  },
  {
   "cell_type": "code",
   "execution_count": null,
   "metadata": {},
   "outputs": [],
   "source": [
    "# Imports\n",
    "import numpy as np\n",
    "import matplotlib.pyplot as plt\n",
    "import pandas as pd\n",
    "#  Knowns\n",
    "## Length\n",
    "#### variable for length of x\n",
    "L = 1\n",
    "\n",
    "## \n",
    "\n",
    "#"
   ]
  },
  {
   "cell_type": "markdown",
   "metadata": {},
   "source": [
    "### 1. Created the General Function "
   ]
  },
  {
   "cell_type": "code",
   "execution_count": null,
   "metadata": {},
   "outputs": [],
   "source": [
    "def full_time_solution(m,x):\n",
    "    \"\"\"\n",
    "    This function takes the infinite fourier series and sets it equal to the temperature ratio\n",
    "    This function takes inputs of n... as in n or N = x/L\n",
    "    n =0 in the series is same as m = 0 in the actual equation form\n",
    "\n",
    "    m represents the condition seen on the heistler chart \n",
    "    x is the variable for the location.. so this will be variable.. it is the current locaiton..\n",
    "    L is a constant length...length from center to edge\n",
    "\n",
    "    \"\"\"\n",
    "    # initialized the array of values of m \n",
    "    m_array = np.array(m)\n",
    "    # then would need to create an additional array for each term \n",
    "    Term1 = np.empty(m)\n",
    "    Term2 = np.empty(m)\n",
    "    Term3 = np.empty(m)\n",
    "\n",
    "    # then developed a for loop in order to iterate through the values..\n",
    "    for value_of_m in m_array:\n",
    "        Term1[value_of_m] = (4*(-1)**value_of_m)/(((2*value_of_m) + 1)*np.pi)\n",
    "        Term2[value_of_m] = np.cos(((2*value_of_m) + 1)*np.pi*x)/(2*L)\n",
    "        Term3[value_of_m] = np.exp()\n",
    "    "
   ]
  }
 ],
 "metadata": {
  "interpreter": {
   "hash": "17ccc0547aa2401a84ad5b063f8433ae202d00ae56ee9097dfa7c2eb026d0eee"
  },
  "kernelspec": {
   "display_name": "Python 3.9.7 ('Warren_Lab')",
   "language": "python",
   "name": "python3"
  },
  "language_info": {
   "name": "python",
   "version": "3.9.7"
  },
  "orig_nbformat": 4
 },
 "nbformat": 4,
 "nbformat_minor": 2
}
