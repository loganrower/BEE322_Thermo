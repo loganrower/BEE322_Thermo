{
 "cells": [
  {
   "cell_type": "markdown",
   "metadata": {},
   "source": [
    "# BEE 322 Homework #1\n"
   ]
  },
  {
   "cell_type": "markdown",
   "metadata": {},
   "source": [
    "### 1. What functions do we use to:\n",
    "\n",
    "##### a. compute the average of a dataset\n",
    "\n",
    "    .mean()\n",
    "\n",
    "##### b. performing a t-test\n",
    "  * Important to acknowledge the fact that there are independent and paird t-test\n",
    "    * indepenedt occur if experimental units are from different or unrelated populations\n",
    "    * dependent or paired are if more than one measurement is taken on single experimental unit or if experimental units are paired by a common factor.  \n",
    "  * (https://www.statsmodels.org/dev/generated/statsmodels.stats.weightstats.ttest_ind.html)\n",
    "\n",
    "##### c.\tA function that can fit a 3rd order polynomial to a dataset\n",
    "\n",
    "##### d.\tA function that will numerically solve an Ordinary Differential Function\n",
    "##### e.\tA function that will make a scatter plot of a dataset\n",
    "##### f.\tA function that will compute the Fourier series\n",
    "##### g.\tA function that will perform constrained multiple linear regression"
   ]
  },
  {
   "cell_type": "code",
   "execution_count": 4,
   "metadata": {},
   "outputs": [
    {
     "data": {
      "text/plain": [
       "Ttest_relResult(statistic=34.71322289034072, pvalue=7.59978661747915e-174)"
      ]
     },
     "execution_count": 4,
     "metadata": {},
     "output_type": "execute_result"
    }
   ],
   "source": [
    "## 1.\n",
    "# created a random dataset\n",
    "import pandas as pd\n",
    "import numpy as np\n",
    "# randome values\n",
    "np.random.seed(seed=42)\n",
    "\n",
    "df_rand  = pd.DataFrame(data=np.random.randint(0,100,(4,3)),\n",
    "           columns=('Monday', 'Tuesday', 'Wednesday'),\n",
    "            index=('Bob', 'Sally', 'Frank', 'Claire')\n",
    "                 )\n",
    "#### a.)\n",
    "df_rand.mean(axis = 'columns')\n",
    "\n",
    "#### b.) performing a t-test\n",
    "\n",
    "###### For independent samples t-test\n",
    "######## Method 1 using statsmodels.stats.weightstats.ttest_ind\n",
    "from statsmodels.stats.weightstats import ttest_ind\n",
    "## so used numpy to generate two normally distributed arrays...\n",
    "drinks_before = np.random.normal(2.3,.9,1000)\n",
    "drinks_after = np.random.normal(1.0,.7,1000)\n",
    "## now performed t-test\n",
    "ttest = ttest_ind(drinks_before, drinks_after)\n",
    "ttest # gives the tstat, pval, df\n",
    "\n",
    "######## Method 1 using scipy.ttest_ind, returns p and t values\n",
    "## using drinks_before and after\n",
    "from scipy.stats import ttest_ind\n",
    "ttest_sp = ttest_ind(drinks_before,drinks_after)\n",
    "ttest_sp \n",
    "## same results as statsmodels... no confidence interval like statsmodesl\n",
    "## also no \n",
    "###### For dependent samples t-test\n",
    "######## Method 3 using scipy.stats.ttest_rel\n",
    "from scipy.stats import ttest_rel\n",
    "ttest_pair = ttest_rel(drinks_before, drinks_after)\n",
    "ttest_pair\n",
    "\n",
    "\n",
    "\n",
    "#### c.) 3rd order polynomial\n",
    "### use numpy.polyfit\n",
    "\n",
    "#### "
   ]
  },
  {
   "cell_type": "markdown",
   "metadata": {},
   "source": [
    "### 2. Given the following data recreate the histrogram..."
   ]
  },
  {
   "cell_type": "code",
   "execution_count": 1,
   "metadata": {},
   "outputs": [
    {
     "data": {
      "image/png": "[encoded data removed]",
      "text/plain": [
       "<PIL.PngImagePlugin.PngImageFile image mode=RGBA size=205x234 at 0x21E41807B50>"
      ]
     },
     "metadata": {},
     "output_type": "display_data"
    }
   ],
   "source": [
    "from PIL import Image\n",
    "img = Image.open(\"Data.png\")\n",
    "display(img)\n"
   ]
  },
  {
   "cell_type": "code",
   "execution_count": 141,
   "metadata": {},
   "outputs": [
    {
     "data": {
      "image/png": "[encoded data removed]",
      "text/plain": [
       "<Figure size 504x360 with 1 Axes>"
      ]
     },
     "metadata": {
      "needs_background": "light"
     },
     "output_type": "display_data"
    }
   ],
   "source": [
    "## So now will first import modules and make the dataframe:\n",
    "import pandas as pd\n",
    "import numpy as np\n",
    "import matplotlib.pyplot as plt\n",
    "## created dataframe with two columns by using numpy arrays\n",
    "df2 = pd.DataFrame(columns = ['X, [inches H2O]', 'Y, # Fields'])\n",
    "df2.loc[0] =[5,0]\n",
    "df2.loc[1] =[10,14]\n",
    "df2.loc[2] =[15,51]\n",
    "df2.loc[3] =[20,144]\n",
    "df2.loc[4] =[25,215]\n",
    "df2.loc[5] =[30,138]\n",
    "df2.loc[6] =[35,58]\n",
    "df2.loc[7] =[40,38]\n",
    "df2.loc[8] =[45,13]\n",
    "df2.loc[9] =[50,1] \n",
    "# print(df2.head(10)) # checked..\n",
    "\n",
    "#defined the variables\n",
    "H2O = df2['X, [inches H2O]'] #independent\n",
    "Fields = df2['Y, # Fields'] #dependent\n",
    "# plotted\n",
    "plt.figure(figsize=(7,5))\n",
    "bins = np.arange(7.5,56,5)\n",
    "plt.rcParams[\"axes.linewidth\"] = 2\n",
    "plt.hist(x = H2O,bins = bins, weights = Fields ,edgecolor = \"black\",linewidth = 2,color = 'r' )\n",
    "plt.xlim(0,55)\n",
    "plt.tick_params(axis = 'both',direction = 'in', width = 2)\n",
    "plt.tick_params(right=True,top=True)\n",
    "plt.xticks(np.arange(5,51,5))\n",
    "plt.xlabel('Inches H2O')\n",
    "plt.ylabel('Number of Fields')\n",
    "plt.title('BEE 322 Homework #1 rowerl')\n",
    "plt.show()"
   ]
  },
  {
   "cell_type": "code",
   "execution_count": 25,
   "metadata": {},
   "outputs": [
    {
     "name": "stdout",
     "output_type": "stream",
     "text": [
      "  X, [inches H2O] Y, # Fields\n",
      "0               5           0\n",
      "  X, [inches H2O] Y, # Fields\n",
      "0               5           0\n",
      "1              10          14\n",
      "  X, [inches H2O] Y, # Fields\n",
      "0               5           0\n",
      "1              10          14\n",
      "2              15          51\n",
      "  X, [inches H2O] Y, # Fields\n",
      "0               5           0\n",
      "1              10          14\n",
      "2              15          51\n",
      "3              20         144\n",
      "  X, [inches H2O] Y, # Fields\n",
      "0               5           0\n",
      "1              10          14\n",
      "2              15          51\n",
      "3              20         144\n",
      "4              25         215\n",
      "  X, [inches H2O] Y, # Fields\n",
      "0               5           0\n",
      "1              10          14\n",
      "2              15          51\n",
      "3              20         144\n",
      "4              25         215\n",
      "5              30         138\n",
      "  X, [inches H2O] Y, # Fields\n",
      "0               5           0\n",
      "1              10          14\n",
      "2              15          51\n",
      "3              20         144\n",
      "4              25         215\n",
      "5              30         138\n",
      "6              35          58\n",
      "  X, [inches H2O] Y, # Fields\n",
      "0               5           0\n",
      "1              10          14\n",
      "2              15          51\n",
      "3              20         144\n",
      "4              25         215\n",
      "5              30         138\n",
      "6              35          58\n",
      "7              40          38\n",
      "  X, [inches H2O] Y, # Fields\n",
      "0               5           0\n",
      "1              10          14\n",
      "2              15          51\n",
      "3              20         144\n",
      "4              25         215\n",
      "5              30         138\n",
      "6              35          58\n",
      "7              40          38\n",
      "8              45          13\n",
      "  X, [inches H2O] Y, # Fields\n",
      "0               5           0\n",
      "1              10          14\n",
      "2              15          51\n",
      "3              20         144\n",
      "4              25         215\n",
      "5              30         138\n",
      "6              35          58\n",
      "7              40          38\n",
      "8              45          13\n",
      "9              50           1\n"
     ]
    },
    {
     "data": {
      "text/html": [
       "<div>\n",
       "<style scoped>\n",
       "    .dataframe tbody tr th:only-of-type {\n",
       "        vertical-align: middle;\n",
       "    }\n",
       "\n",
       "    .dataframe tbody tr th {\n",
       "        vertical-align: top;\n",
       "    }\n",
       "\n",
       "    .dataframe thead th {\n",
       "        text-align: right;\n",
       "    }\n",
       "</style>\n",
       "<table border=\"1\" class=\"dataframe\">\n",
       "  <thead>\n",
       "    <tr style=\"text-align: right;\">\n",
       "      <th></th>\n",
       "      <th>X, [inches H2O]</th>\n",
       "      <th>Y, # Fields</th>\n",
       "    </tr>\n",
       "  </thead>\n",
       "  <tbody>\n",
       "    <tr>\n",
       "      <th>0</th>\n",
       "      <td>5</td>\n",
       "      <td>0</td>\n",
       "    </tr>\n",
       "    <tr>\n",
       "      <th>1</th>\n",
       "      <td>10</td>\n",
       "      <td>14</td>\n",
       "    </tr>\n",
       "    <tr>\n",
       "      <th>2</th>\n",
       "      <td>15</td>\n",
       "      <td>51</td>\n",
       "    </tr>\n",
       "    <tr>\n",
       "      <th>3</th>\n",
       "      <td>20</td>\n",
       "      <td>144</td>\n",
       "    </tr>\n",
       "    <tr>\n",
       "      <th>4</th>\n",
       "      <td>25</td>\n",
       "      <td>215</td>\n",
       "    </tr>\n",
       "    <tr>\n",
       "      <th>5</th>\n",
       "      <td>30</td>\n",
       "      <td>138</td>\n",
       "    </tr>\n",
       "    <tr>\n",
       "      <th>6</th>\n",
       "      <td>35</td>\n",
       "      <td>58</td>\n",
       "    </tr>\n",
       "    <tr>\n",
       "      <th>7</th>\n",
       "      <td>40</td>\n",
       "      <td>38</td>\n",
       "    </tr>\n",
       "    <tr>\n",
       "      <th>8</th>\n",
       "      <td>45</td>\n",
       "      <td>13</td>\n",
       "    </tr>\n",
       "    <tr>\n",
       "      <th>9</th>\n",
       "      <td>50</td>\n",
       "      <td>1</td>\n",
       "    </tr>\n",
       "  </tbody>\n",
       "</table>\n",
       "</div>"
      ],
      "text/plain": [
       "  X, [inches H2O] Y, # Fields\n",
       "0               5           0\n",
       "1              10          14\n",
       "2              15          51\n",
       "3              20         144\n",
       "4              25         215\n",
       "5              30         138\n",
       "6              35          58\n",
       "7              40          38\n",
       "8              45          13\n",
       "9              50           1"
      ]
     },
     "execution_count": 25,
     "metadata": {},
     "output_type": "execute_result"
    }
   ],
   "source": [
    "import pandas as pd\n",
    "import numpy as np\n",
    "import matplotlib.pyplot as plt\n",
    "# first creatred a pandas dataframe with the necessary columns..\n",
    "df = pd.DataFrame(columns = ['X, [inches H2O]', 'Y, # Fields'])\n",
    "# number of rows\n",
    "rows = 10\n",
    "# then created a for loop to iterate over each row and add it to the dataframe\n",
    "for num in range(0, rows):\n",
    "    df.loc[num] = [int(input()), int(input())] # so performed df.loc[] for each row and added the necessary values for each row\n",
    "    print(df) # printed the df each time to see values inputted\n",
    "# after exiting the for loop the df was printed to view\n",
    "df\n",
    "\n"
   ]
  }
 ],
 "metadata": {
  "interpreter": {
   "hash": "c377a2700310661ac77084ef20a5a1370b1dcf438338fb5af936bed4adafaf07"
  },
  "kernelspec": {
   "display_name": "Python 3.8.8 64-bit ('base': conda)",
   "language": "python",
   "name": "python3"
  },
  "language_info": {
   "codemirror_mode": {
    "name": "ipython",
    "version": 3
   },
   "file_extension": ".py",
   "mimetype": "text/x-python",
   "name": "python",
   "nbconvert_exporter": "python",
   "pygments_lexer": "ipython3",
   "version": "3.8.8"
  },
  "orig_nbformat": 4
 },
 "nbformat": 4,
 "nbformat_minor": 2
}
