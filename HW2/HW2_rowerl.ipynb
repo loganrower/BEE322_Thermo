{
 "cells": [
  {
   "cell_type": "markdown",
   "metadata": {},
   "source": [
    "# Problem 5:\n",
    "The temperature within a wall is measured with several thermometers. Potentially useful Matlab \n",
    "Commands: gradient, plot.\n",
    "\n",
    "Given the temperature data below:\n",
    "\n",
    "5.  Plot the temperature profile.\n",
    "6.  k=0.85 W/m-K.  Plot the flux, q, as a function of position. \n",
    "7.  Assuming no energy generation, is the wall warming or cooling?"
   ]
  },
  {
   "cell_type": "markdown",
   "metadata": {},
   "source": [
    "### Plot the Temperature Profile"
   ]
  },
  {
   "cell_type": "code",
   "execution_count": 2,
   "metadata": {},
   "outputs": [
    {
     "data": {
      "image/png": "[encoded data removed]",
      "text/plain": [
       "<Figure size 432x288 with 1 Axes>"
      ]
     },
     "metadata": {
      "needs_background": "light"
     },
     "output_type": "display_data"
    }
   ],
   "source": [
    "# Plotting the Temperature File\n",
    "## imported modules\n",
    "import pandas as pd\n",
    "import numpy as np\n",
    "import matplotlib.pyplot as plt\n",
    "## First created a dictionary of the postiion and temperature data\n",
    "#### Created two arrays to display values\n",
    "pos_array = np.arange(0,2+.1,.1)\n",
    "temp_list = [284.00, 285.12, 286.22, 287.28,288.28,289.20,290.03, 290.77,291.42,291.96,292.42,292.80,293.10,293.34,293.52,293.66,293.76,293.83,293.89,293.92,293.95 ]\n",
    "temp_array = temp_list\n",
    "#print(pos_array)\n",
    "\n",
    "dict_values = {\n",
    "    \"Position [cm]\":pos_array,\n",
    "    \"Temp. [K]\": temp_array\n",
    "}\n",
    "\n",
    "## second, converted the created dictionary into a dataframe that can be manipulated\n",
    "df_pos_temp=pd.DataFrame(dict_values)\n",
    "\n",
    "## third, taking that dataframe that has been created, extracted values\n",
    "### extract values\n",
    "pos = df_pos_temp['Position [cm]']\n",
    "temp = df_pos_temp['Temp. [K]']\n",
    "\n",
    "## fourth, plotted values \n",
    "### get the axes\n",
    "ax5 = plt.axes()\n",
    "### create the scatter plot\n",
    "ax5.scatter(pos, temp)\n",
    "##### set the linewidth and the ticks\n",
    "for axis in ['top','bottom','left','right']:\n",
    "    ax5.spines[axis].set_linewidth(2)\n",
    "ax5.tick_params(axis = 'both',direction = 'in', width = 2)\n",
    "ax5.tick_params(right=True,top=True)\n",
    "##### Set the titles\n",
    "ax5.set_title(\"Temperature Profile\")\n",
    "ax5.set_xlabel(\"Position [cm]\")\n",
    "ax5.set_ylabel(\"Temp. [K]\")\n",
    "plt.show()\n"
   ]
  },
  {
   "cell_type": "markdown",
   "metadata": {},
   "source": [
    "## Plot the flux q as a function of position\n",
    "* In order to do this we need to determine the flux using fourier's law...\n",
    "* So using fourier's law below I think used the constant of  *`k= .85 W/m-K`*\n",
    "\n",
    "* Equation:\n",
    "$ \\mathrm{q\\ =\\ -k}\\ (∆T/∆x) $\n",
    "\n",
    "* Created a function that will take an input dataframe, and then calculate the heatflux and put that column onto the dataframe and returned the dataframe\n",
    "* Then needed to plot the heatflux as a function of position"
   ]
  },
  {
   "cell_type": "code",
   "execution_count": 5,
   "metadata": {},
   "outputs": [
    {
     "data": {
      "image/png": "[encoded data removed]",
      "text/plain": [
       "<Figure size 432x288 with 1 Axes>"
      ]
     },
     "metadata": {
      "needs_background": "light"
     },
     "output_type": "display_data"
    }
   ],
   "source": [
    "## First defined a function for heat flux from conduction (fourier's law\n",
    "def cond_flux(dataframe):\n",
    "    # takes the input dataframe \n",
    "    # sets the known variables in the dataframe\n",
    "    dataframe = df_pos_temp\n",
    "    k = .85 # W/m-K    pos = dataframe['Position [cm]']\n",
    "    temp = dataframe['Temp. [K]']\n",
    "    pos = dataframe['Position [cm]']\n",
    "    # array for temperature difference\n",
    "    t_diff = np.empty(len(temp))\n",
    "    # array for position difference\n",
    "    p_diff = np.empty(len(pos))\n",
    "    # new column for q, same length as position\n",
    "    dataframe['q'] = np.empty(len(pos))\n",
    "    q_array = dataframe['q']\n",
    "\n",
    "    # equation for q was developed to generate a new array to be added to the dataframe\n",
    "\n",
    "    ## in order to do this a for loop was utilized in order to get an array of the difference in temperatures\n",
    "    # initialized start position\n",
    "    t_previous= 0\n",
    "    p_previous = 0\n",
    "    for t_current in range(0,len(temp)):\n",
    "        # first index skip\n",
    "        if t_current >0:\n",
    "            # took the current temp minus the previous\n",
    "            t_diff[t_previous] =  temp[t_current]- temp[t_previous]\n",
    "\n",
    "        # then set the previous temp to teh current temp to be referenced later\n",
    "        t_previous = t_current\n",
    "        # equation for q values was constructed with a for loop to append those values to the array for q \n",
    "        for p_current in range(0,len(pos)):\n",
    "            if p_current > 0:\n",
    "                p_diff[p_previous] = pos[p_current] - pos[p_previous]\n",
    "                q_array[p_previous] = k*(t_diff[p_previous]/p_diff[p_previous])\n",
    "            p_previous = p_current\n",
    "    return q_array\n",
    "## Second, after defining the function, what I did was \n",
    "cond_flux(df_pos_temp)\n",
    "q_cond = df_pos_temp['q']\n",
    "pos = df_pos_temp['Position [cm]']\n",
    "\n",
    "## fourth, plotted values \n",
    "### get the axes\n",
    "ax5 = plt.axes()\n",
    "### create the scatter plot\n",
    "ax5.scatter(pos, q_cond)\n",
    "##### set the linewidth and the ticks\n",
    "for axis in ['top','bottom','left','right']:\n",
    "    ax5.spines[axis].set_linewidth(2)\n",
    "ax5.tick_params(axis = 'both',direction = 'in', width = 2)\n",
    "ax5.tick_params(right=True,top=True)\n",
    "##### Set the titles\n",
    "ax5.set_title(\"Flux as a function of Position\")\n",
    "ax5.set_xlabel(\"Position [cm]\")\n",
    "ax5.set_ylabel(\"q W/m-K\")\n",
    "plt.show()"
   ]
  },
  {
   "cell_type": "markdown",
   "metadata": {},
   "source": [
    "### Assuming no energy generation, is the wall warming or cooling?"
   ]
  },
  {
   "cell_type": "markdown",
   "metadata": {},
   "source": []
  }
 ],
 "metadata": {
  "interpreter": {
   "hash": "c377a2700310661ac77084ef20a5a1370b1dcf438338fb5af936bed4adafaf07"
  },
  "kernelspec": {
   "display_name": "Python 3.8.8 64-bit ('base': conda)",
   "language": "python",
   "name": "python3"
  },
  "language_info": {
   "codemirror_mode": {
    "name": "ipython",
    "version": 3
   },
   "file_extension": ".py",
   "mimetype": "text/x-python",
   "name": "python",
   "nbconvert_exporter": "python",
   "pygments_lexer": "ipython3",
   "version": "3.8.8"
  },
  "orig_nbformat": 4
 },
 "nbformat": 4,
 "nbformat_minor": 2
}
