{
 "cells": [
  {
   "cell_type": "markdown",
   "metadata": {},
   "source": [
    "# Problem 5:\n",
    "The temperature within a wall is measured with several thermometers. Potentially useful Matlab \n",
    "Commands: gradient, plot.\n",
    "\n",
    "Given the temperature data below:\n",
    "\n",
    "5.  Plot the temperature profile.\n",
    "6.  k=0.85 W/m-K.  Plot the flux, q, as a function of position. \n",
    "7.  Assuming no energy generation, is the wall warming or cooling?"
   ]
  },
  {
   "cell_type": "markdown",
   "metadata": {},
   "source": [
    "### Plot the Temperature Profile"
   ]
  },
  {
   "cell_type": "code",
   "execution_count": 3,
   "metadata": {},
   "outputs": [
    {
     "data": {
      "image/png": "[encoded data removed]",
      "text/plain": [
       "<Figure size 432x288 with 1 Axes>"
      ]
     },
     "metadata": {
      "needs_background": "light"
     },
     "output_type": "display_data"
    }
   ],
   "source": [
    "# Plotting the Temperature File\n",
    "## imported modules\n",
    "import pandas as pd\n",
    "import numpy as np\n",
    "import matplotlib.pyplot as plt\n",
    "## First created a dictionary of the postiion and temperature data\n",
    "#### Created two arrays to display values\n",
    "pos_array = np.arange(0,2+.1,.1)\n",
    "temp_list = [284.00, 285.12, 286.22, 287.28,288.28,289.20,290.03, 290.77,291.42,291.96,292.42,292.80,293.10,293.34,293.52,293.66,293.76,293.83,293.89,293.92,293.95 ]\n",
    "temp_array = temp_list\n",
    "\n",
    "dict_values = {\n",
    "    \"Position [cm]\":pos_array,\n",
    "    \"Temp. [K]\": temp_array\n",
    "}\n",
    "\n",
    "## second, converted the created dictionary into a dataframe that can be manipulated\n",
    "df_pos_temp=pd.DataFrame(dict_values)\n",
    "\n",
    "## third, taking that dataframe that has been created, extracted values\n",
    "### extract values\n",
    "df_pos_temp['Position [cm]'] = df_pos_temp['Position [cm]']/100\n",
    "df_pos_temp['Position [m]'] = df_pos_temp['Position [cm]']\n",
    "del df_pos_temp['Position [cm]']\n",
    "pos = df_pos_temp['Position [m]'].round(3)\n",
    "temp = df_pos_temp['Temp. [K]']\n",
    "## fourth, plotted values \n",
    "### get the axes\n",
    "ax5 = plt.axes()\n",
    "### create the scatter plot\n",
    "ax5.scatter(pos, temp)\n",
    "##### set the linewidth and the ticks\n",
    "for axis in ['top','bottom','left','right']:\n",
    "    ax5.spines[axis].set_linewidth(2)\n",
    "ax5.tick_params(axis = 'both',direction = 'in', width = 2)\n",
    "ax5.tick_params(right=True,top=True)\n",
    "##### Set the titles\n",
    "ax5.set_title(\"Temperature Profile\")\n",
    "ax5.set_xlabel(\"Position [m]\")\n",
    "ax5.set_ylabel(\"Temp. [K]\")\n",
    "plt.show()\n"
   ]
  },
  {
   "cell_type": "markdown",
   "metadata": {},
   "source": [
    "## Plot the flux q as a function of position\n",
    "* In order to do this we need to determine the flux using fourier's law...\n",
    "* So using fourier's law below I think used the constant of  *`k= .85 W/m-K`*\n",
    "\n",
    "* Equation:\n",
    "$ \\mathrm{q\\ =\\ -k}\\ (∆T/∆x) $\n",
    "\n",
    "* Created a function that will take an input dataframe, and then calculate the heatflux and put that column onto the dataframe and returned the dataframe\n",
    "* Then needed to plot the heatflux as a function of position"
   ]
  },
  {
   "cell_type": "code",
   "execution_count": 6,
   "metadata": {},
   "outputs": [
    {
     "data": {
      "image/png": "[encoded data removed]",
      "text/plain": [
       "<Figure size 432x288 with 1 Axes>"
      ]
     },
     "metadata": {
      "needs_background": "light"
     },
     "output_type": "display_data"
    }
   ],
   "source": [
    "## First defined a function for heat flux from conduction (fourier's law\n",
    "def cond_flux(dataframe):\n",
    "    # takes the input dataframe \n",
    "    # sets the known variables in the dataframe\n",
    "    dataframe = df_pos_temp\n",
    "    k = (-.85) # W/m-K    pos = dataframe['Position [cm]']\n",
    "    temp = dataframe['Temp. [K]']\n",
    "    pos = dataframe['Position [m]']\n",
    "\n",
    "    # array for temperature difference\n",
    "    t_diff = np.diff(temp)\n",
    "    # array for position difference\n",
    "    p_diff = np.diff(pos)\n",
    "    # array for q with length of 20\n",
    "    q_array = np.empty(len(pos)-1)\n",
    "    \n",
    "    # equation for q was developed to generate a new array to be added to the dataframe\n",
    "    ## with the t_diff and p_diff were found a for loop can be developed in order to determine q\n",
    "    ## loop went through the length of q_array that is empty\n",
    "    for p_current in range(0,len(q_array)):\n",
    "        q_array[p_current] = k*(t_diff[p_current]/p_diff[p_current])\n",
    "    \n",
    "    # created new dictionary to save the data too\n",
    "    new_data = {\n",
    "        \"Temp. [K]\":temp[1:],\n",
    "        \"Position [m]\": pos[1:],\n",
    "        \"q [W/m-K]\": q_array\n",
    "\n",
    "    }\n",
    "    new_dataframe = pd.DataFrame(new_data)\n",
    "    # returned a dataframe that has a position from 1 to 21 and the q_array\n",
    "\n",
    "    return new_dataframe\n",
    "## Second, after defining the function, what I did was \n",
    "q_df =cond_flux(df_pos_temp)\n",
    "q_cond = q_df['q [W/m-K]']\n",
    "pos = q_df['Position [m]'].round(3)\n",
    "\n",
    "## fourth, plotted values \n",
    "### get the axes\n",
    "ax5 = plt.axes()\n",
    "### create the scatter plot\n",
    "ax5.scatter(pos, q_cond)\n",
    "##### set the linewidth and the ticks\n",
    "for axis in ['top','bottom','left','right']:\n",
    "    ax5.spines[axis].set_linewidth(2)\n",
    "ax5.tick_params(axis = 'both',direction = 'in', width = 2)\n",
    "ax5.tick_params(right=True,top=True)\n",
    "##### Set the titles\n",
    "ax5.set_title(\"Flux versus Position\")\n",
    "ax5.set_xlabel(\"Position [m]\")\n",
    "ax5.set_ylabel(\"q W/m-K\")\n",
    "plt.show()"
   ]
  },
  {
   "cell_type": "markdown",
   "metadata": {},
   "source": [
    "### Assuming no energy generation, is the wall warming or cooling?"
   ]
  },
  {
   "cell_type": "markdown",
   "metadata": {},
   "source": [
    "Warming"
   ]
  },
  {
   "cell_type": "markdown",
   "metadata": {},
   "source": []
  }
 ],
 "metadata": {
  "interpreter": {
   "hash": "c377a2700310661ac77084ef20a5a1370b1dcf438338fb5af936bed4adafaf07"
  },
  "kernelspec": {
   "display_name": "Python 3.8.8 64-bit ('base': conda)",
   "language": "python",
   "name": "python3"
  },
  "language_info": {
   "codemirror_mode": {
    "name": "ipython",
    "version": 3
   },
   "file_extension": ".py",
   "mimetype": "text/x-python",
   "name": "python",
   "nbconvert_exporter": "python",
   "pygments_lexer": "ipython3",
   "version": "3.9.7"
  },
  "orig_nbformat": 4
 },
 "nbformat": 4,
 "nbformat_minor": 2
}
