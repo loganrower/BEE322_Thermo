{
 "cells": [
  {
   "cell_type": "markdown",
   "metadata": {},
   "source": [
    "# Problem 5: Python Problem\n",
    "\n",
    "Heat generated through the biological activity of microorganisms is often temperature dependent such\n",
    "that biological production is zero at temperature extremes (Tmin=15oC; Tmax=30oC) and maximized at an\n",
    "optimal temperature (Topt=25oC). Imagine a spherical lump of detritus in a lake that has a diameter of\n",
    "L=0.02 m and conductivity k=2W/m-K. As it moves through the water column, it loses heat by\n",
    "convection, h=3.1 W/m2-K, to the surrounding water (Twater=12oC), and it generates heat through\n",
    "biological activity:"
   ]
  },
  {
   "cell_type": "markdown",
   "metadata": {},
   "source": [
    "### Equation:\n"
   ]
  },
  {
   "cell_type": "code",
   "execution_count": 7,
   "metadata": {},
   "outputs": [
    {
     "name": "stdout",
     "output_type": "stream",
     "text": [
      "4.188790204786391e-06\n",
      "0.004188790204786391\n"
     ]
    }
   ],
   "source": [
    "import numpy as np\n",
    "### Knowns:\n",
    "# the temperature extremes\n",
    "Tmin = 15 +273.15# K\n",
    "Tmax = 30 +273.15 # K\n",
    "# This is the max optimum temp\n",
    "Topt = 25 +273.15 #K\n",
    "Twater = 12 +273.15 #K\n",
    "L = .02 #m\n",
    "#diameter of the spherical lump of detrius\n",
    "k = 2 # W/m-K\n",
    "# conductivity of the spherical lump\n",
    "h = 3.1  # W/(m^2 - K)\n",
    "C_Q = .008 # K/s \n",
    "# detritus density:\n",
    "density = 1000 #kg/m^3\n",
    "# heat capacity of detritus\n",
    "c_p = 3500 #J/kg-K\n",
    "\n",
    "# calculated the volume:\n",
    "volume = np.pi*(4/3)*(L/2)**3\n",
    "print(volume)\n",
    "\n",
    "# calculated the mass\n",
    "mass = density * volume\n",
    "print(mass)\n",
    " "
   ]
  },
  {
   "cell_type": "markdown",
   "metadata": {},
   "source": [
    "#### 5a write Q as a function of T\n",
    "\n"
   ]
  },
  {
   "cell_type": "code",
   "execution_count": 8,
   "metadata": {},
   "outputs": [
    {
     "name": "stdout",
     "output_type": "stream",
     "text": [
      "currently testing\n",
      "currently testing\n",
      "-0.0\n",
      "currently testing\n"
     ]
    },
    {
     "data": {
      "image/png": "[encoded data removed]",
      "text/plain": [
       "<Figure size 576x576 with 1 Axes>"
      ]
     },
     "metadata": {
      "needs_background": "light"
     },
     "output_type": "display_data"
    }
   ],
   "source": [
    "import numpy as np\n",
    "import matplotlib.pyplot as plt\n",
    "def QofT(T):\n",
    "    \"\"\"Function to plot Q as a function of T\n",
    "    This function takes an input of T\"\"\"\n",
    "    array_Q = np.empty(len(T))\n",
    "    for temp in np.arange(len(T)):\n",
    "        if T[temp] > Tmin or T[temp] < Tmax:\n",
    "            #print(T[temp])\n",
    "            Q_numerator = C_Q*(T[temp]-Tmax)*((T[temp]-Tmin)**2)\n",
    "            Q_denominator = (Topt - Tmin)*((Topt-Tmin)*(T[temp]-Topt)-(Topt-Tmax)*(Topt+Tmin-2*T[temp]))\n",
    "            Q_of_T =  Q_numerator/Q_denominator\n",
    "            array_Q[temp] = Q_of_T\n",
    "        elif Tmin >= T[temp] or T >= Tmax:\n",
    "            array_Q[temp] = 0\n",
    "    print(\"currently testing\")\n",
    "    return array_Q\n",
    "def plotQofT(T,ax):\n",
    "    vals_Q = QofT(tarray)\n",
    "    ax.scatter(T, vals_Q)\n",
    "# set an array of temperature values from Tmin to T max\n",
    "tarray = np.linspace(Tmin,Tmax,100)\n",
    "QofT(tarray)\n",
    "\n",
    "# set the axis\n",
    "fig = plt.figure()\n",
    "fig.set_size_inches(8,8)\n",
    "ax5a = plt.subplot(1,1,1)\n",
    "a = QofT(tarray)\n",
    "print(a[len(tarray)-1])\n",
    "plotQofT(tarray, ax5a)\n"
   ]
  },
  {
   "cell_type": "markdown",
   "metadata": {},
   "source": [
    "#### 5b write dT/dt as a function of T"
   ]
  },
  {
   "cell_type": "markdown",
   "metadata": {},
   "source": [
    "> In this problem it doesn't detail that the time is a factor in the change of the temperature so as such it is safe to assume that it operates under steady conditions\n",
    "> However:\n",
    "   * The lump **loses heat** by *convection*\n",
    "   * There are reactions\n",
    "      * the lump **generates heat** through reactions \n",
    "      * The reactions are zero at the temperature extremes\n",
    "      "
   ]
  },
  {
   "cell_type": "code",
   "execution_count": 9,
   "metadata": {},
   "outputs": [],
   "source": [
    "# # if above logic is incorrect I checked to see if we could use lumped parameter\n",
    "# ###### Checked the Biot Number to see uf we can use lumped parameter\n",
    "# ###### Bi = (h*L)/k\n",
    "# Bi = (h * L) /k\n",
    "# if Bi < .1:\n",
    "#     print(\"Use Lumped Parameter\")\n",
    "# else:\n",
    "#     print(\"We cannot ignore space and thus must need to account for it with a different method\")"
   ]
  },
  {
   "cell_type": "markdown",
   "metadata": {},
   "source": [
    "#### Assuming that Q is actually heat flow instead of heat then the plot would be the following..\n",
    "\n",
    "Dt/dt = (q*A)/(m*cp)\n",
    "where q*A = Q/dt\n"
   ]
  },
  {
   "cell_type": "code",
   "execution_count": 12,
   "metadata": {},
   "outputs": [
    {
     "name": "stdout",
     "output_type": "stream",
     "text": [
      "currently testing\n"
     ]
    },
    {
     "data": {
      "text/plain": [
       "<matplotlib.collections.PathCollection at 0x1ef5bf817f0>"
      ]
     },
     "execution_count": 12,
     "metadata": {},
     "output_type": "execute_result"
    },
    {
     "data": {
      "image/png": "[encoded data removed]",
      "text/plain": [
       "<Figure size 576x576 with 1 Axes>"
      ]
     },
     "metadata": {
      "needs_background": "light"
     },
     "output_type": "display_data"
    }
   ],
   "source": [
    "### Assuming Q is heat flow...\n",
    "# Referenced the prior temp of T\n",
    "tarray = np.linspace(Tmin,Tmax,100)\n",
    "# Called the function QofT\n",
    "dT_dt = QofT(tarray)/(mass*c_p)\n",
    "\n",
    "# the plotted\n",
    "fig = plt.figure()\n",
    "fig.set_size_inches(8,8)\n",
    "ax5b = plt.subplot(1,1,1)\n",
    "\n",
    "ax5b.scatter(tarray, dT_dt)"
   ]
  },
  {
   "cell_type": "code",
   "execution_count": null,
   "metadata": {},
   "outputs": [],
   "source": [
    "# Since this problem is steady this implies that dT/dt is zero and thus it will be a constant change in temperature..\n"
   ]
  }
 ],
 "metadata": {
  "interpreter": {
   "hash": "c377a2700310661ac77084ef20a5a1370b1dcf438338fb5af936bed4adafaf07"
  },
  "kernelspec": {
   "display_name": "Python 3.9.7 ('base')",
   "language": "python",
   "name": "python3"
  },
  "language_info": {
   "codemirror_mode": {
    "name": "ipython",
    "version": 3
   },
   "file_extension": ".py",
   "mimetype": "text/x-python",
   "name": "python",
   "nbconvert_exporter": "python",
   "pygments_lexer": "ipython3",
   "version": "3.9.7"
  },
  "orig_nbformat": 4
 },
 "nbformat": 4,
 "nbformat_minor": 2
}
